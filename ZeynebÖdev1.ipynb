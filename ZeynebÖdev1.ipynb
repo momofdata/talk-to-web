{
 "cells": [
  {
   "cell_type": "code",
   "execution_count": 20,
   "id": "1791ba5f-5c71-4383-9266-561fc24b199d",
   "metadata": {},
   "outputs": [
    {
     "name": "stdin",
     "output_type": "stream",
     "text": [
      "x değeri girin: 33\n"
     ]
    }
   ],
   "source": [
    "x=input(\"x değeri girin:\")"
   ]
  },
  {
   "cell_type": "code",
   "execution_count": 22,
   "id": "3c85b3a9-8b6b-4131-8e6c-66d81aa97163",
   "metadata": {},
   "outputs": [
    {
     "name": "stdin",
     "output_type": "stream",
     "text": [
      "y değeri girin: 22\n"
     ]
    }
   ],
   "source": [
    "    y=input(\"y değeri girin:\")"
   ]
  },
  {
   "cell_type": "code",
   "execution_count": 31,
   "id": "8a1de454-4844-4343-84f8-5808aa96573b",
   "metadata": {},
   "outputs": [
    {
     "name": "stdout",
     "output_type": "stream",
     "text": [
      "55\n"
     ]
    }
   ],
   "source": [
    "toplam = int(x)+int(y)\n",
    "print(toplam)"
   ]
  },
  {
   "cell_type": "code",
   "execution_count": null,
   "id": "b53b2394-ec75-45a4-bc2b-681239eff631",
   "metadata": {},
   "outputs": [],
   "source": []
  },
  {
   "cell_type": "code",
   "execution_count": null,
   "id": "01920bd7-1699-4e3b-b5d2-854bb650d3e5",
   "metadata": {},
   "outputs": [],
   "source": []
  }
 ],
 "metadata": {
  "kernelspec": {
   "display_name": "Python [conda env:anaconda3] *",
   "language": "python",
   "name": "conda-env-anaconda3-py"
  },
  "language_info": {
   "codemirror_mode": {
    "name": "ipython",
    "version": 3
   },
   "file_extension": ".py",
   "mimetype": "text/x-python",
   "name": "python",
   "nbconvert_exporter": "python",
   "pygments_lexer": "ipython3",
   "version": "3.10.16"
  }
 },
 "nbformat": 4,
 "nbformat_minor": 5
}
